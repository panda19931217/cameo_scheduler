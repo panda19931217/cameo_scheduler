{
  "nbformat": 4,
  "nbformat_minor": 0,
  "metadata": {
    "colab": {
      "name": "make_url_cache_v2.ipynb",
      "provenance": [],
      "collapsed_sections": [],
      "include_colab_link": true
    },
    "kernelspec": {
      "name": "python3",
      "display_name": "Python 3"
    }
  },
  "cells": [
    {
      "cell_type": "markdown",
      "metadata": {
        "id": "view-in-github",
        "colab_type": "text"
      },
      "source": [
        "<a href=\"https://colab.research.google.com/github/panda19931217/cameo_scheduler/blob/master/make_url_cache_v2.ipynb\" target=\"_parent\"><img src=\"https://colab.research.google.com/assets/colab-badge.svg\" alt=\"Open In Colab\"/></a>"
      ]
    },
    {
      "cell_type": "code",
      "metadata": {
        "id": "n9zjhsYT_rwp",
        "colab_type": "code",
        "outputId": "b007b3f4-b58a-4d04-879e-050681e87592",
        "colab": {
          "base_uri": "https://localhost:8080/",
          "height": 34
        }
      },
      "source": [
        "import pandas as pd\n",
        "import datetime as dt\n",
        "from datetime import datetime\n",
        "from urllib.parse import quote\n",
        "import requests\n",
        "now = str(datetime.now())\n",
        "time = pd.date_range(end = now, periods = 2, freq = \"30D\")\n",
        "start_time = str(time[0])[0:10]\n",
        "end_time = str(time[1])[0:10]\n",
        "now"
      ],
      "execution_count": 13,
      "outputs": [
        {
          "output_type": "execute_result",
          "data": {
            "text/plain": [
              "'2020-05-14 02:56:07.370840'"
            ]
          },
          "metadata": {
            "tags": []
          },
          "execution_count": 13
        }
      ]
    },
    {
      "cell_type": "code",
      "metadata": {
        "id": "sW82_l9JgOnw",
        "colab_type": "code",
        "outputId": "49c154b3-a843-45ad-da7a-82c269e45b72",
        "colab": {
          "base_uri": "https://localhost:8080/",
          "height": 34
        }
      },
      "source": [
        "start_time_1H = pd.date_range(end = start_time, periods = 2, freq = \"1H\")\n",
        "start_time_1H = quote(str(start_time_1H[0])[0:16])\n",
        "start_time_1H"
      ],
      "execution_count": 14,
      "outputs": [
        {
          "output_type": "execute_result",
          "data": {
            "text/plain": [
              "'2020-04-13%2023%3A00'"
            ]
          },
          "metadata": {
            "tags": []
          },
          "execution_count": 14
        }
      ]
    },
    {
      "cell_type": "code",
      "metadata": {
        "id": "XSzNvTbvr8eK",
        "colab_type": "code",
        "outputId": "b7e945e8-5075-43c6-df15-152272d83d10",
        "colab": {
          "base_uri": "https://localhost:8080/",
          "height": 34
        }
      },
      "source": [
        "end_time_1H = pd.date_range(start = end_time, periods = 2, freq = \"1D59min\")\n",
        "end_time_1H = quote(str(end_time_1H[1])[0:16])\n",
        "end_time_1H"
      ],
      "execution_count": 15,
      "outputs": [
        {
          "output_type": "execute_result",
          "data": {
            "text/plain": [
              "'2020-05-15%2000%3A59'"
            ]
          },
          "metadata": {
            "tags": []
          },
          "execution_count": 15
        }
      ]
    },
    {
      "cell_type": "code",
      "metadata": {
        "id": "ypRb75jCcx13",
        "colab_type": "code",
        "colab": {}
      },
      "source": [
        "lst_min_max_lat_lon_事件圈圈 = [\n",
        "    \"min_lat=22.4342&max_lat=22.89&min_lon=120.1393&max_lon=120.4398\",\n",
        "    \"min_lat=23.4386&max_lat=23.5347&min_lon=120.397&max_lon=120.5106\",\n",
        "    \"min_lat=22.9036&max_lat=23.2027&min_lon=120.0584&max_lon=120.2666\",\n",
        "    \"min_lat=21.8727&max_lat=22.8734&min_lon=120.4398&max_lon=120.9212\",\n",
        "    \"min_lat=24.075452&max_lat=24.42158&min_lon=120.49468&max_lon=120.742974\",\n",
        "    \"min_lat=24.576&max_lat=24.7401&min_lon=120.7107&max_lon=120.9529\",\n",
        "    \"min_lat=23.519469&max_lat=23.793247&min_lon=120.1385103&max_lon=120.7179493\",\n",
        "    \"min_lat=23.7868&max_lat=24.2007&min_lon=120.2524&max_lon=120.6884\",\n",
        "    \"min_lat=24.8276&max_lat=25.0968&min_lon=121.0815&max_lon=121.3961\",\n",
        "    \"min_lat=24.9344&max_lat=25.155&min_lon=121.3699&max_lon=121.5263\",\n",
        "    \"min_lat=24.6188&max_lat=24.6422&min_lon=121.807&max_lon=121.8355\",\n",
        "    \"min_lat=24.7465&max_lat=24.9093&min_lon=120.8888&max_lon=121.1645\",\n",
        "    \"min_lat=25.0494&max_lat=25.1775&min_lon=121.6186&max_lon=121.8143\",\n",
        "    \"min_lat=24.94624&max_lat=25.175258&min_lon=121.362369&max_lon=121.62475\"]"
      ],
      "execution_count": 0,
      "outputs": []
    },
    {
      "cell_type": "code",
      "metadata": {
        "id": "q5cIk6_Xc1Ne",
        "colab_type": "code",
        "colab": {}
      },
      "source": [
        "lst_min_max_lat_lon_國家測站 = [\n",
        "    \"min_lat=22.2097&max_lat=23.1145&min_lon=119.89160000000001&max_lon=120.6875\",\n",
        "    \"min_lat=23.214100000000002&max_lat=23.7592&min_lon=120.14930000000001&max_lon=120.75829999999999\",\n",
        "    \"min_lat=22.679100000000002&max_lat=23.4272&min_lon=119.81070000000001&max_lon=120.51429999999999\",\n",
        "    \"min_lat=21.6482&max_lat=23.0979&min_lon=120.19210000000001&max_lon=121.1689\",\n",
        "    \"min_lat=23.850952&max_lat=24.646079999999998&min_lon=120.24698000000001&max_lon=120.990674\",\n",
        "    \"min_lat=24.3515&max_lat=24.9646&min_lon=120.46300000000001&max_lon=121.2006\",\n",
        "    \"min_lat=23.294969000000002&max_lat=24.017747&min_lon=119.8908103&max_lon=120.9656493\",\n",
        "    \"min_lat=23.5623&max_lat=24.4252&min_lon=120.0047&max_lon=120.9361\",\n",
        "    \"min_lat=24.6031&max_lat=25.3213&min_lon=120.83380000000001&max_lon=121.6438\",\n",
        "    \"min_lat=24.7099&max_lat=25.3795&min_lon=121.1222&max_lon=121.774\",\n",
        "    \"min_lat=24.3943&max_lat=24.866699999999998&min_lon=121.55930000000001&max_lon=122.08319999999999\",\n",
        "    \"min_lat=24.522000000000002&max_lat=25.1338&min_lon=120.64110000000001&max_lon=121.4122\",\n",
        "    \"min_lat=24.8249&max_lat=25.401999999999997&min_lon=121.3709&max_lon=122.062\",\n",
        "    \"min_lat=24.72174&max_lat=25.399758&min_lon=121.114669&max_lon=121.872452\"]"
      ],
      "execution_count": 0,
      "outputs": []
    },
    {
      "cell_type": "code",
      "metadata": {
        "id": "eMQh2g0VWWdv",
        "colab_type": "code",
        "colab": {}
      },
      "source": [
        "lst_area = [\n",
        "    \"高雄\",\n",
        "    \"嘉義\",\n",
        "    \"台南\",\n",
        "    \"屏東\",\n",
        "    \"台中\",\n",
        "    \"苗栗\",\n",
        "    \"雲林\",\n",
        "    \"彰化\",\n",
        "    \"桃園\",\n",
        "    \"新北\",\n",
        "    \"宜蘭\",\n",
        "    \"新竹\",\n",
        "    \"基隆\",\n",
        "    \"台北\"]"
      ],
      "execution_count": 0,
      "outputs": []
    },
    {
      "cell_type": "code",
      "metadata": {
        "id": "GnQ_tQgjk87E",
        "colab_type": "code",
        "colab": {}
      },
      "source": [
        "def print_file(str_line,io):\n",
        "    print(str_line)\n",
        "    io.write(str_line+\"\\n\")"
      ],
      "execution_count": 0,
      "outputs": []
    },
    {
      "cell_type": "code",
      "metadata": {
        "id": "WYKhxOWCc47r",
        "colab_type": "code",
        "colab": {}
      },
      "source": [
        "def loop_url_事件(lst_min_max_lat_lon_事件圈圈,io):\n",
        "    for str_min_max_lat_lon_事件圈圈 in lst_min_max_lat_lon_事件圈圈:\n",
        "        str_url_事件 = f'https://iotai-dev.cameo.tw/api/v2/iot/events?start_time={start_time}%2000%3A00%3A00&end_time={end_time}%2023%3A59%3A59&{str_min_max_lat_lon_事件圈圈}'\n",
        "        print_file(str_url_事件,io)      "
      ],
      "execution_count": 0,
      "outputs": []
    },
    {
      "cell_type": "code",
      "metadata": {
        "id": "FQuMufYQYphV",
        "colab_type": "code",
        "colab": {}
      },
      "source": [
        "def loop_url_圈圈(lst_min_max_lat_lon_事件圈圈,lst_area,io):\n",
        "    int_cnt=0\n",
        "    while int_cnt < len(lst_min_max_lat_lon_事件圈圈):\n",
        "        print(int_cnt,lst_min_max_lat_lon_事件圈圈[int_cnt],lst_area[int_cnt])\n",
        "        str_url_圈圈 = f'https://iotai-dev.cameo.tw/api/v2/iot/circles/avg?start_time={start_time}%2000%3A00%3A00&end_time={end_time}%2023%3A59%3A59&area={quote(lst_area[int_cnt])}&score_threshold=40&{lst_min_max_lat_lon_事件圈圈[int_cnt]}'\n",
        "        int_cnt+=1\n",
        "        print_file(str_url_圈圈,io)"
      ],
      "execution_count": 0,
      "outputs": []
    },
    {
      "cell_type": "code",
      "metadata": {
        "id": "TuJLsehyc9ab",
        "colab_type": "code",
        "colab": {}
      },
      "source": [
        "def loop_url_國家測站(lst_min_max_lat_lon_國家測站,io):\n",
        "    for str_min_max_lat_lon_國家測站 in lst_min_max_lat_lon_國家測站:\n",
        "        str_url_國家測站 = f'https://iotai-dev.cameo.tw/_/api/v2/epa_station/rawdata?fields=wind_direct%2Cwind_speed&start_time={start_time_1H}&end_time={end_time_1H}&{str_min_max_lat_lon_國家測站}' \n",
        "        print_file(str_url_國家測站,io)  "
      ],
      "execution_count": 0,
      "outputs": []
    },
    {
      "cell_type": "code",
      "metadata": {
        "id": "LIeQ_xe5dAoP",
        "colab_type": "code",
        "colab": {}
      },
      "source": [
        "def gen_all_url():\n",
        "    io = open(f\"make_url_cache_{end_time}.csv\", \"w\")\n",
        "    loop_url_事件(lst_min_max_lat_lon_事件圈圈,io)\n",
        "    loop_url_圈圈(lst_min_max_lat_lon_事件圈圈,lst_area,io)\n",
        "    loop_url_國家測站(lst_min_max_lat_lon_國家測站,io)\n",
        "    io.close()      "
      ],
      "execution_count": 0,
      "outputs": []
    },
    {
      "cell_type": "code",
      "metadata": {
        "id": "KX3W7xvHdB7K",
        "colab_type": "code",
        "outputId": "0cbae3d8-46b5-4620-bc88-5b6ab19d33cb",
        "colab": {
          "base_uri": "https://localhost:8080/",
          "height": 1000
        }
      },
      "source": [
        "gen_all_url() \n",
        "lst = open(f\"make_url_cache_{end_time}.csv\", \"r\").read().split(\"\\n\")\n",
        "for str_url in lst:\n",
        "    print(str_url)\n",
        "    r = requests.get(str_url)\n",
        "    #print(r.text[0:300])"
      ],
      "execution_count": 24,
      "outputs": [
        {
          "output_type": "stream",
          "text": [
            "https://iotai-dev.cameo.tw/api/v2/iot/events?start_time=2020-04-14%2000%3A00%3A00&end_time=2020-05-14%2023%3A59%3A59&min_lat=22.4342&max_lat=22.89&min_lon=120.1393&max_lon=120.4398\n",
            "https://iotai-dev.cameo.tw/api/v2/iot/events?start_time=2020-04-14%2000%3A00%3A00&end_time=2020-05-14%2023%3A59%3A59&min_lat=23.4386&max_lat=23.5347&min_lon=120.397&max_lon=120.5106\n",
            "https://iotai-dev.cameo.tw/api/v2/iot/events?start_time=2020-04-14%2000%3A00%3A00&end_time=2020-05-14%2023%3A59%3A59&min_lat=22.9036&max_lat=23.2027&min_lon=120.0584&max_lon=120.2666\n",
            "https://iotai-dev.cameo.tw/api/v2/iot/events?start_time=2020-04-14%2000%3A00%3A00&end_time=2020-05-14%2023%3A59%3A59&min_lat=21.8727&max_lat=22.8734&min_lon=120.4398&max_lon=120.9212\n",
            "https://iotai-dev.cameo.tw/api/v2/iot/events?start_time=2020-04-14%2000%3A00%3A00&end_time=2020-05-14%2023%3A59%3A59&min_lat=24.075452&max_lat=24.42158&min_lon=120.49468&max_lon=120.742974\n",
            "https://iotai-dev.cameo.tw/api/v2/iot/events?start_time=2020-04-14%2000%3A00%3A00&end_time=2020-05-14%2023%3A59%3A59&min_lat=24.576&max_lat=24.7401&min_lon=120.7107&max_lon=120.9529\n",
            "https://iotai-dev.cameo.tw/api/v2/iot/events?start_time=2020-04-14%2000%3A00%3A00&end_time=2020-05-14%2023%3A59%3A59&min_lat=23.519469&max_lat=23.793247&min_lon=120.1385103&max_lon=120.7179493\n",
            "https://iotai-dev.cameo.tw/api/v2/iot/events?start_time=2020-04-14%2000%3A00%3A00&end_time=2020-05-14%2023%3A59%3A59&min_lat=23.7868&max_lat=24.2007&min_lon=120.2524&max_lon=120.6884\n",
            "https://iotai-dev.cameo.tw/api/v2/iot/events?start_time=2020-04-14%2000%3A00%3A00&end_time=2020-05-14%2023%3A59%3A59&min_lat=24.8276&max_lat=25.0968&min_lon=121.0815&max_lon=121.3961\n",
            "https://iotai-dev.cameo.tw/api/v2/iot/events?start_time=2020-04-14%2000%3A00%3A00&end_time=2020-05-14%2023%3A59%3A59&min_lat=24.9344&max_lat=25.155&min_lon=121.3699&max_lon=121.5263\n",
            "https://iotai-dev.cameo.tw/api/v2/iot/events?start_time=2020-04-14%2000%3A00%3A00&end_time=2020-05-14%2023%3A59%3A59&min_lat=24.6188&max_lat=24.6422&min_lon=121.807&max_lon=121.8355\n",
            "https://iotai-dev.cameo.tw/api/v2/iot/events?start_time=2020-04-14%2000%3A00%3A00&end_time=2020-05-14%2023%3A59%3A59&min_lat=24.7465&max_lat=24.9093&min_lon=120.8888&max_lon=121.1645\n",
            "https://iotai-dev.cameo.tw/api/v2/iot/events?start_time=2020-04-14%2000%3A00%3A00&end_time=2020-05-14%2023%3A59%3A59&min_lat=25.0494&max_lat=25.1775&min_lon=121.6186&max_lon=121.8143\n",
            "https://iotai-dev.cameo.tw/api/v2/iot/events?start_time=2020-04-14%2000%3A00%3A00&end_time=2020-05-14%2023%3A59%3A59&min_lat=24.94624&max_lat=25.175258&min_lon=121.362369&max_lon=121.62475\n",
            "0 min_lat=22.4342&max_lat=22.89&min_lon=120.1393&max_lon=120.4398 高雄\n",
            "https://iotai-dev.cameo.tw/api/v2/iot/circles/avg?start_time=2020-04-14%2000%3A00%3A00&end_time=2020-05-14%2023%3A59%3A59&area=%E9%AB%98%E9%9B%84&score_threshold=40&min_lat=22.4342&max_lat=22.89&min_lon=120.1393&max_lon=120.4398\n",
            "1 min_lat=23.4386&max_lat=23.5347&min_lon=120.397&max_lon=120.5106 嘉義\n",
            "https://iotai-dev.cameo.tw/api/v2/iot/circles/avg?start_time=2020-04-14%2000%3A00%3A00&end_time=2020-05-14%2023%3A59%3A59&area=%E5%98%89%E7%BE%A9&score_threshold=40&min_lat=23.4386&max_lat=23.5347&min_lon=120.397&max_lon=120.5106\n",
            "2 min_lat=22.9036&max_lat=23.2027&min_lon=120.0584&max_lon=120.2666 台南\n",
            "https://iotai-dev.cameo.tw/api/v2/iot/circles/avg?start_time=2020-04-14%2000%3A00%3A00&end_time=2020-05-14%2023%3A59%3A59&area=%E5%8F%B0%E5%8D%97&score_threshold=40&min_lat=22.9036&max_lat=23.2027&min_lon=120.0584&max_lon=120.2666\n",
            "3 min_lat=21.8727&max_lat=22.8734&min_lon=120.4398&max_lon=120.9212 屏東\n",
            "https://iotai-dev.cameo.tw/api/v2/iot/circles/avg?start_time=2020-04-14%2000%3A00%3A00&end_time=2020-05-14%2023%3A59%3A59&area=%E5%B1%8F%E6%9D%B1&score_threshold=40&min_lat=21.8727&max_lat=22.8734&min_lon=120.4398&max_lon=120.9212\n",
            "4 min_lat=24.075452&max_lat=24.42158&min_lon=120.49468&max_lon=120.742974 台中\n",
            "https://iotai-dev.cameo.tw/api/v2/iot/circles/avg?start_time=2020-04-14%2000%3A00%3A00&end_time=2020-05-14%2023%3A59%3A59&area=%E5%8F%B0%E4%B8%AD&score_threshold=40&min_lat=24.075452&max_lat=24.42158&min_lon=120.49468&max_lon=120.742974\n",
            "5 min_lat=24.576&max_lat=24.7401&min_lon=120.7107&max_lon=120.9529 苗栗\n",
            "https://iotai-dev.cameo.tw/api/v2/iot/circles/avg?start_time=2020-04-14%2000%3A00%3A00&end_time=2020-05-14%2023%3A59%3A59&area=%E8%8B%97%E6%A0%97&score_threshold=40&min_lat=24.576&max_lat=24.7401&min_lon=120.7107&max_lon=120.9529\n",
            "6 min_lat=23.519469&max_lat=23.793247&min_lon=120.1385103&max_lon=120.7179493 雲林\n",
            "https://iotai-dev.cameo.tw/api/v2/iot/circles/avg?start_time=2020-04-14%2000%3A00%3A00&end_time=2020-05-14%2023%3A59%3A59&area=%E9%9B%B2%E6%9E%97&score_threshold=40&min_lat=23.519469&max_lat=23.793247&min_lon=120.1385103&max_lon=120.7179493\n",
            "7 min_lat=23.7868&max_lat=24.2007&min_lon=120.2524&max_lon=120.6884 彰化\n",
            "https://iotai-dev.cameo.tw/api/v2/iot/circles/avg?start_time=2020-04-14%2000%3A00%3A00&end_time=2020-05-14%2023%3A59%3A59&area=%E5%BD%B0%E5%8C%96&score_threshold=40&min_lat=23.7868&max_lat=24.2007&min_lon=120.2524&max_lon=120.6884\n",
            "8 min_lat=24.8276&max_lat=25.0968&min_lon=121.0815&max_lon=121.3961 桃園\n",
            "https://iotai-dev.cameo.tw/api/v2/iot/circles/avg?start_time=2020-04-14%2000%3A00%3A00&end_time=2020-05-14%2023%3A59%3A59&area=%E6%A1%83%E5%9C%92&score_threshold=40&min_lat=24.8276&max_lat=25.0968&min_lon=121.0815&max_lon=121.3961\n",
            "9 min_lat=24.9344&max_lat=25.155&min_lon=121.3699&max_lon=121.5263 新北\n",
            "https://iotai-dev.cameo.tw/api/v2/iot/circles/avg?start_time=2020-04-14%2000%3A00%3A00&end_time=2020-05-14%2023%3A59%3A59&area=%E6%96%B0%E5%8C%97&score_threshold=40&min_lat=24.9344&max_lat=25.155&min_lon=121.3699&max_lon=121.5263\n",
            "10 min_lat=24.6188&max_lat=24.6422&min_lon=121.807&max_lon=121.8355 宜蘭\n",
            "https://iotai-dev.cameo.tw/api/v2/iot/circles/avg?start_time=2020-04-14%2000%3A00%3A00&end_time=2020-05-14%2023%3A59%3A59&area=%E5%AE%9C%E8%98%AD&score_threshold=40&min_lat=24.6188&max_lat=24.6422&min_lon=121.807&max_lon=121.8355\n",
            "11 min_lat=24.7465&max_lat=24.9093&min_lon=120.8888&max_lon=121.1645 新竹\n",
            "https://iotai-dev.cameo.tw/api/v2/iot/circles/avg?start_time=2020-04-14%2000%3A00%3A00&end_time=2020-05-14%2023%3A59%3A59&area=%E6%96%B0%E7%AB%B9&score_threshold=40&min_lat=24.7465&max_lat=24.9093&min_lon=120.8888&max_lon=121.1645\n",
            "12 min_lat=25.0494&max_lat=25.1775&min_lon=121.6186&max_lon=121.8143 基隆\n",
            "https://iotai-dev.cameo.tw/api/v2/iot/circles/avg?start_time=2020-04-14%2000%3A00%3A00&end_time=2020-05-14%2023%3A59%3A59&area=%E5%9F%BA%E9%9A%86&score_threshold=40&min_lat=25.0494&max_lat=25.1775&min_lon=121.6186&max_lon=121.8143\n",
            "13 min_lat=24.94624&max_lat=25.175258&min_lon=121.362369&max_lon=121.62475 台北\n",
            "https://iotai-dev.cameo.tw/api/v2/iot/circles/avg?start_time=2020-04-14%2000%3A00%3A00&end_time=2020-05-14%2023%3A59%3A59&area=%E5%8F%B0%E5%8C%97&score_threshold=40&min_lat=24.94624&max_lat=25.175258&min_lon=121.362369&max_lon=121.62475\n",
            "https://iotai-dev.cameo.tw/_/api/v2/epa_station/rawdata?fields=wind_direct%2Cwind_speed&start_time=2020-04-13%2023%3A00&end_time=2020-05-15%2000%3A59&min_lat=22.2097&max_lat=23.1145&min_lon=119.89160000000001&max_lon=120.6875\n",
            "https://iotai-dev.cameo.tw/_/api/v2/epa_station/rawdata?fields=wind_direct%2Cwind_speed&start_time=2020-04-13%2023%3A00&end_time=2020-05-15%2000%3A59&min_lat=23.214100000000002&max_lat=23.7592&min_lon=120.14930000000001&max_lon=120.75829999999999\n",
            "https://iotai-dev.cameo.tw/_/api/v2/epa_station/rawdata?fields=wind_direct%2Cwind_speed&start_time=2020-04-13%2023%3A00&end_time=2020-05-15%2000%3A59&min_lat=22.679100000000002&max_lat=23.4272&min_lon=119.81070000000001&max_lon=120.51429999999999\n",
            "https://iotai-dev.cameo.tw/_/api/v2/epa_station/rawdata?fields=wind_direct%2Cwind_speed&start_time=2020-04-13%2023%3A00&end_time=2020-05-15%2000%3A59&min_lat=21.6482&max_lat=23.0979&min_lon=120.19210000000001&max_lon=121.1689\n",
            "https://iotai-dev.cameo.tw/_/api/v2/epa_station/rawdata?fields=wind_direct%2Cwind_speed&start_time=2020-04-13%2023%3A00&end_time=2020-05-15%2000%3A59&min_lat=23.850952&max_lat=24.646079999999998&min_lon=120.24698000000001&max_lon=120.990674\n",
            "https://iotai-dev.cameo.tw/_/api/v2/epa_station/rawdata?fields=wind_direct%2Cwind_speed&start_time=2020-04-13%2023%3A00&end_time=2020-05-15%2000%3A59&min_lat=24.3515&max_lat=24.9646&min_lon=120.46300000000001&max_lon=121.2006\n",
            "https://iotai-dev.cameo.tw/_/api/v2/epa_station/rawdata?fields=wind_direct%2Cwind_speed&start_time=2020-04-13%2023%3A00&end_time=2020-05-15%2000%3A59&min_lat=23.294969000000002&max_lat=24.017747&min_lon=119.8908103&max_lon=120.9656493\n",
            "https://iotai-dev.cameo.tw/_/api/v2/epa_station/rawdata?fields=wind_direct%2Cwind_speed&start_time=2020-04-13%2023%3A00&end_time=2020-05-15%2000%3A59&min_lat=23.5623&max_lat=24.4252&min_lon=120.0047&max_lon=120.9361\n",
            "https://iotai-dev.cameo.tw/_/api/v2/epa_station/rawdata?fields=wind_direct%2Cwind_speed&start_time=2020-04-13%2023%3A00&end_time=2020-05-15%2000%3A59&min_lat=24.6031&max_lat=25.3213&min_lon=120.83380000000001&max_lon=121.6438\n",
            "https://iotai-dev.cameo.tw/_/api/v2/epa_station/rawdata?fields=wind_direct%2Cwind_speed&start_time=2020-04-13%2023%3A00&end_time=2020-05-15%2000%3A59&min_lat=24.7099&max_lat=25.3795&min_lon=121.1222&max_lon=121.774\n",
            "https://iotai-dev.cameo.tw/_/api/v2/epa_station/rawdata?fields=wind_direct%2Cwind_speed&start_time=2020-04-13%2023%3A00&end_time=2020-05-15%2000%3A59&min_lat=24.3943&max_lat=24.866699999999998&min_lon=121.55930000000001&max_lon=122.08319999999999\n",
            "https://iotai-dev.cameo.tw/_/api/v2/epa_station/rawdata?fields=wind_direct%2Cwind_speed&start_time=2020-04-13%2023%3A00&end_time=2020-05-15%2000%3A59&min_lat=24.522000000000002&max_lat=25.1338&min_lon=120.64110000000001&max_lon=121.4122\n",
            "https://iotai-dev.cameo.tw/_/api/v2/epa_station/rawdata?fields=wind_direct%2Cwind_speed&start_time=2020-04-13%2023%3A00&end_time=2020-05-15%2000%3A59&min_lat=24.8249&max_lat=25.401999999999997&min_lon=121.3709&max_lon=122.062\n",
            "https://iotai-dev.cameo.tw/_/api/v2/epa_station/rawdata?fields=wind_direct%2Cwind_speed&start_time=2020-04-13%2023%3A00&end_time=2020-05-15%2000%3A59&min_lat=24.72174&max_lat=25.399758&min_lon=121.114669&max_lon=121.872452\n",
            "https://iotai-dev.cameo.tw/api/v2/iot/events?start_time=2020-04-14%2000%3A00%3A00&end_time=2020-05-14%2023%3A59%3A59&min_lat=22.4342&max_lat=22.89&min_lon=120.1393&max_lon=120.4398\n",
            "https://iotai-dev.cameo.tw/api/v2/iot/events?start_time=2020-04-14%2000%3A00%3A00&end_time=2020-05-14%2023%3A59%3A59&min_lat=23.4386&max_lat=23.5347&min_lon=120.397&max_lon=120.5106\n"
          ],
          "name": "stdout"
        },
        {
          "output_type": "error",
          "ename": "KeyboardInterrupt",
          "evalue": "ignored",
          "traceback": [
            "\u001b[0;31m---------------------------------------------------------------------------\u001b[0m",
            "\u001b[0;31mTypeError\u001b[0m                                 Traceback (most recent call last)",
            "\u001b[0;32m/usr/local/lib/python3.6/dist-packages/urllib3/connectionpool.py\u001b[0m in \u001b[0;36m_make_request\u001b[0;34m(self, conn, method, url, timeout, chunked, **httplib_request_kw)\u001b[0m\n\u001b[1;32m    376\u001b[0m             \u001b[0;32mtry\u001b[0m\u001b[0;34m:\u001b[0m  \u001b[0;31m# Python 2.7, use buffering of HTTP responses\u001b[0m\u001b[0;34m\u001b[0m\u001b[0;34m\u001b[0m\u001b[0m\n\u001b[0;32m--> 377\u001b[0;31m                 \u001b[0mhttplib_response\u001b[0m \u001b[0;34m=\u001b[0m \u001b[0mconn\u001b[0m\u001b[0;34m.\u001b[0m\u001b[0mgetresponse\u001b[0m\u001b[0;34m(\u001b[0m\u001b[0mbuffering\u001b[0m\u001b[0;34m=\u001b[0m\u001b[0;32mTrue\u001b[0m\u001b[0;34m)\u001b[0m\u001b[0;34m\u001b[0m\u001b[0;34m\u001b[0m\u001b[0m\n\u001b[0m\u001b[1;32m    378\u001b[0m             \u001b[0;32mexcept\u001b[0m \u001b[0mTypeError\u001b[0m\u001b[0;34m:\u001b[0m  \u001b[0;31m# Python 3\u001b[0m\u001b[0;34m\u001b[0m\u001b[0;34m\u001b[0m\u001b[0m\n",
            "\u001b[0;31mTypeError\u001b[0m: getresponse() got an unexpected keyword argument 'buffering'",
            "\nDuring handling of the above exception, another exception occurred:\n",
            "\u001b[0;31mKeyboardInterrupt\u001b[0m                         Traceback (most recent call last)",
            "\u001b[0;32m<ipython-input-24-3515acfccec7>\u001b[0m in \u001b[0;36m<module>\u001b[0;34m()\u001b[0m\n\u001b[1;32m      3\u001b[0m \u001b[0;32mfor\u001b[0m \u001b[0mstr_url\u001b[0m \u001b[0;32min\u001b[0m \u001b[0mlst\u001b[0m\u001b[0;34m:\u001b[0m\u001b[0;34m\u001b[0m\u001b[0;34m\u001b[0m\u001b[0m\n\u001b[1;32m      4\u001b[0m     \u001b[0mprint\u001b[0m\u001b[0;34m(\u001b[0m\u001b[0mstr_url\u001b[0m\u001b[0;34m)\u001b[0m\u001b[0;34m\u001b[0m\u001b[0;34m\u001b[0m\u001b[0m\n\u001b[0;32m----> 5\u001b[0;31m     \u001b[0mr\u001b[0m \u001b[0;34m=\u001b[0m \u001b[0mrequests\u001b[0m\u001b[0;34m.\u001b[0m\u001b[0mget\u001b[0m\u001b[0;34m(\u001b[0m\u001b[0mstr_url\u001b[0m\u001b[0;34m)\u001b[0m\u001b[0;34m\u001b[0m\u001b[0;34m\u001b[0m\u001b[0m\n\u001b[0m\u001b[1;32m      6\u001b[0m     \u001b[0;31m#print(r.text[0:300])\u001b[0m\u001b[0;34m\u001b[0m\u001b[0;34m\u001b[0m\u001b[0;34m\u001b[0m\u001b[0m\n",
            "\u001b[0;32m/usr/local/lib/python3.6/dist-packages/requests/api.py\u001b[0m in \u001b[0;36mget\u001b[0;34m(url, params, **kwargs)\u001b[0m\n\u001b[1;32m     74\u001b[0m \u001b[0;34m\u001b[0m\u001b[0m\n\u001b[1;32m     75\u001b[0m     \u001b[0mkwargs\u001b[0m\u001b[0;34m.\u001b[0m\u001b[0msetdefault\u001b[0m\u001b[0;34m(\u001b[0m\u001b[0;34m'allow_redirects'\u001b[0m\u001b[0;34m,\u001b[0m \u001b[0;32mTrue\u001b[0m\u001b[0;34m)\u001b[0m\u001b[0;34m\u001b[0m\u001b[0;34m\u001b[0m\u001b[0m\n\u001b[0;32m---> 76\u001b[0;31m     \u001b[0;32mreturn\u001b[0m \u001b[0mrequest\u001b[0m\u001b[0;34m(\u001b[0m\u001b[0;34m'get'\u001b[0m\u001b[0;34m,\u001b[0m \u001b[0murl\u001b[0m\u001b[0;34m,\u001b[0m \u001b[0mparams\u001b[0m\u001b[0;34m=\u001b[0m\u001b[0mparams\u001b[0m\u001b[0;34m,\u001b[0m \u001b[0;34m**\u001b[0m\u001b[0mkwargs\u001b[0m\u001b[0;34m)\u001b[0m\u001b[0;34m\u001b[0m\u001b[0;34m\u001b[0m\u001b[0m\n\u001b[0m\u001b[1;32m     77\u001b[0m \u001b[0;34m\u001b[0m\u001b[0m\n\u001b[1;32m     78\u001b[0m \u001b[0;34m\u001b[0m\u001b[0m\n",
            "\u001b[0;32m/usr/local/lib/python3.6/dist-packages/requests/api.py\u001b[0m in \u001b[0;36mrequest\u001b[0;34m(method, url, **kwargs)\u001b[0m\n\u001b[1;32m     59\u001b[0m     \u001b[0;31m# cases, and look like a memory leak in others.\u001b[0m\u001b[0;34m\u001b[0m\u001b[0;34m\u001b[0m\u001b[0;34m\u001b[0m\u001b[0m\n\u001b[1;32m     60\u001b[0m     \u001b[0;32mwith\u001b[0m \u001b[0msessions\u001b[0m\u001b[0;34m.\u001b[0m\u001b[0mSession\u001b[0m\u001b[0;34m(\u001b[0m\u001b[0;34m)\u001b[0m \u001b[0;32mas\u001b[0m \u001b[0msession\u001b[0m\u001b[0;34m:\u001b[0m\u001b[0;34m\u001b[0m\u001b[0;34m\u001b[0m\u001b[0m\n\u001b[0;32m---> 61\u001b[0;31m         \u001b[0;32mreturn\u001b[0m \u001b[0msession\u001b[0m\u001b[0;34m.\u001b[0m\u001b[0mrequest\u001b[0m\u001b[0;34m(\u001b[0m\u001b[0mmethod\u001b[0m\u001b[0;34m=\u001b[0m\u001b[0mmethod\u001b[0m\u001b[0;34m,\u001b[0m \u001b[0murl\u001b[0m\u001b[0;34m=\u001b[0m\u001b[0murl\u001b[0m\u001b[0;34m,\u001b[0m \u001b[0;34m**\u001b[0m\u001b[0mkwargs\u001b[0m\u001b[0;34m)\u001b[0m\u001b[0;34m\u001b[0m\u001b[0;34m\u001b[0m\u001b[0m\n\u001b[0m\u001b[1;32m     62\u001b[0m \u001b[0;34m\u001b[0m\u001b[0m\n\u001b[1;32m     63\u001b[0m \u001b[0;34m\u001b[0m\u001b[0m\n",
            "\u001b[0;32m/usr/local/lib/python3.6/dist-packages/requests/sessions.py\u001b[0m in \u001b[0;36mrequest\u001b[0;34m(self, method, url, params, data, headers, cookies, files, auth, timeout, allow_redirects, proxies, hooks, stream, verify, cert, json)\u001b[0m\n\u001b[1;32m    528\u001b[0m         }\n\u001b[1;32m    529\u001b[0m         \u001b[0msend_kwargs\u001b[0m\u001b[0;34m.\u001b[0m\u001b[0mupdate\u001b[0m\u001b[0;34m(\u001b[0m\u001b[0msettings\u001b[0m\u001b[0;34m)\u001b[0m\u001b[0;34m\u001b[0m\u001b[0;34m\u001b[0m\u001b[0m\n\u001b[0;32m--> 530\u001b[0;31m         \u001b[0mresp\u001b[0m \u001b[0;34m=\u001b[0m \u001b[0mself\u001b[0m\u001b[0;34m.\u001b[0m\u001b[0msend\u001b[0m\u001b[0;34m(\u001b[0m\u001b[0mprep\u001b[0m\u001b[0;34m,\u001b[0m \u001b[0;34m**\u001b[0m\u001b[0msend_kwargs\u001b[0m\u001b[0;34m)\u001b[0m\u001b[0;34m\u001b[0m\u001b[0;34m\u001b[0m\u001b[0m\n\u001b[0m\u001b[1;32m    531\u001b[0m \u001b[0;34m\u001b[0m\u001b[0m\n\u001b[1;32m    532\u001b[0m         \u001b[0;32mreturn\u001b[0m \u001b[0mresp\u001b[0m\u001b[0;34m\u001b[0m\u001b[0;34m\u001b[0m\u001b[0m\n",
            "\u001b[0;32m/usr/local/lib/python3.6/dist-packages/requests/sessions.py\u001b[0m in \u001b[0;36msend\u001b[0;34m(self, request, **kwargs)\u001b[0m\n\u001b[1;32m    641\u001b[0m \u001b[0;34m\u001b[0m\u001b[0m\n\u001b[1;32m    642\u001b[0m         \u001b[0;31m# Send the request\u001b[0m\u001b[0;34m\u001b[0m\u001b[0;34m\u001b[0m\u001b[0;34m\u001b[0m\u001b[0m\n\u001b[0;32m--> 643\u001b[0;31m         \u001b[0mr\u001b[0m \u001b[0;34m=\u001b[0m \u001b[0madapter\u001b[0m\u001b[0;34m.\u001b[0m\u001b[0msend\u001b[0m\u001b[0;34m(\u001b[0m\u001b[0mrequest\u001b[0m\u001b[0;34m,\u001b[0m \u001b[0;34m**\u001b[0m\u001b[0mkwargs\u001b[0m\u001b[0;34m)\u001b[0m\u001b[0;34m\u001b[0m\u001b[0;34m\u001b[0m\u001b[0m\n\u001b[0m\u001b[1;32m    644\u001b[0m \u001b[0;34m\u001b[0m\u001b[0m\n\u001b[1;32m    645\u001b[0m         \u001b[0;31m# Total elapsed time of the request (approximately)\u001b[0m\u001b[0;34m\u001b[0m\u001b[0;34m\u001b[0m\u001b[0;34m\u001b[0m\u001b[0m\n",
            "\u001b[0;32m/usr/local/lib/python3.6/dist-packages/requests/adapters.py\u001b[0m in \u001b[0;36msend\u001b[0;34m(self, request, stream, timeout, verify, cert, proxies)\u001b[0m\n\u001b[1;32m    447\u001b[0m                     \u001b[0mdecode_content\u001b[0m\u001b[0;34m=\u001b[0m\u001b[0;32mFalse\u001b[0m\u001b[0;34m,\u001b[0m\u001b[0;34m\u001b[0m\u001b[0;34m\u001b[0m\u001b[0m\n\u001b[1;32m    448\u001b[0m                     \u001b[0mretries\u001b[0m\u001b[0;34m=\u001b[0m\u001b[0mself\u001b[0m\u001b[0;34m.\u001b[0m\u001b[0mmax_retries\u001b[0m\u001b[0;34m,\u001b[0m\u001b[0;34m\u001b[0m\u001b[0;34m\u001b[0m\u001b[0m\n\u001b[0;32m--> 449\u001b[0;31m                     \u001b[0mtimeout\u001b[0m\u001b[0;34m=\u001b[0m\u001b[0mtimeout\u001b[0m\u001b[0;34m\u001b[0m\u001b[0;34m\u001b[0m\u001b[0m\n\u001b[0m\u001b[1;32m    450\u001b[0m                 )\n\u001b[1;32m    451\u001b[0m \u001b[0;34m\u001b[0m\u001b[0m\n",
            "\u001b[0;32m/usr/local/lib/python3.6/dist-packages/urllib3/connectionpool.py\u001b[0m in \u001b[0;36murlopen\u001b[0;34m(self, method, url, body, headers, retries, redirect, assert_same_host, timeout, pool_timeout, release_conn, chunked, body_pos, **response_kw)\u001b[0m\n\u001b[1;32m    598\u001b[0m                                                   \u001b[0mtimeout\u001b[0m\u001b[0;34m=\u001b[0m\u001b[0mtimeout_obj\u001b[0m\u001b[0;34m,\u001b[0m\u001b[0;34m\u001b[0m\u001b[0;34m\u001b[0m\u001b[0m\n\u001b[1;32m    599\u001b[0m                                                   \u001b[0mbody\u001b[0m\u001b[0;34m=\u001b[0m\u001b[0mbody\u001b[0m\u001b[0;34m,\u001b[0m \u001b[0mheaders\u001b[0m\u001b[0;34m=\u001b[0m\u001b[0mheaders\u001b[0m\u001b[0;34m,\u001b[0m\u001b[0;34m\u001b[0m\u001b[0;34m\u001b[0m\u001b[0m\n\u001b[0;32m--> 600\u001b[0;31m                                                   chunked=chunked)\n\u001b[0m\u001b[1;32m    601\u001b[0m \u001b[0;34m\u001b[0m\u001b[0m\n\u001b[1;32m    602\u001b[0m             \u001b[0;31m# If we're going to release the connection in ``finally:``, then\u001b[0m\u001b[0;34m\u001b[0m\u001b[0;34m\u001b[0m\u001b[0;34m\u001b[0m\u001b[0m\n",
            "\u001b[0;32m/usr/local/lib/python3.6/dist-packages/urllib3/connectionpool.py\u001b[0m in \u001b[0;36m_make_request\u001b[0;34m(self, conn, method, url, timeout, chunked, **httplib_request_kw)\u001b[0m\n\u001b[1;32m    378\u001b[0m             \u001b[0;32mexcept\u001b[0m \u001b[0mTypeError\u001b[0m\u001b[0;34m:\u001b[0m  \u001b[0;31m# Python 3\u001b[0m\u001b[0;34m\u001b[0m\u001b[0;34m\u001b[0m\u001b[0m\n\u001b[1;32m    379\u001b[0m                 \u001b[0;32mtry\u001b[0m\u001b[0;34m:\u001b[0m\u001b[0;34m\u001b[0m\u001b[0;34m\u001b[0m\u001b[0m\n\u001b[0;32m--> 380\u001b[0;31m                     \u001b[0mhttplib_response\u001b[0m \u001b[0;34m=\u001b[0m \u001b[0mconn\u001b[0m\u001b[0;34m.\u001b[0m\u001b[0mgetresponse\u001b[0m\u001b[0;34m(\u001b[0m\u001b[0;34m)\u001b[0m\u001b[0;34m\u001b[0m\u001b[0;34m\u001b[0m\u001b[0m\n\u001b[0m\u001b[1;32m    381\u001b[0m                 \u001b[0;32mexcept\u001b[0m \u001b[0mException\u001b[0m \u001b[0;32mas\u001b[0m \u001b[0me\u001b[0m\u001b[0;34m:\u001b[0m\u001b[0;34m\u001b[0m\u001b[0;34m\u001b[0m\u001b[0m\n\u001b[1;32m    382\u001b[0m                     \u001b[0;31m# Remove the TypeError from the exception chain in Python 3;\u001b[0m\u001b[0;34m\u001b[0m\u001b[0;34m\u001b[0m\u001b[0;34m\u001b[0m\u001b[0m\n",
            "\u001b[0;32m/usr/lib/python3.6/http/client.py\u001b[0m in \u001b[0;36mgetresponse\u001b[0;34m(self)\u001b[0m\n\u001b[1;32m   1354\u001b[0m         \u001b[0;32mtry\u001b[0m\u001b[0;34m:\u001b[0m\u001b[0;34m\u001b[0m\u001b[0;34m\u001b[0m\u001b[0m\n\u001b[1;32m   1355\u001b[0m             \u001b[0;32mtry\u001b[0m\u001b[0;34m:\u001b[0m\u001b[0;34m\u001b[0m\u001b[0;34m\u001b[0m\u001b[0m\n\u001b[0;32m-> 1356\u001b[0;31m                 \u001b[0mresponse\u001b[0m\u001b[0;34m.\u001b[0m\u001b[0mbegin\u001b[0m\u001b[0;34m(\u001b[0m\u001b[0;34m)\u001b[0m\u001b[0;34m\u001b[0m\u001b[0;34m\u001b[0m\u001b[0m\n\u001b[0m\u001b[1;32m   1357\u001b[0m             \u001b[0;32mexcept\u001b[0m \u001b[0mConnectionError\u001b[0m\u001b[0;34m:\u001b[0m\u001b[0;34m\u001b[0m\u001b[0;34m\u001b[0m\u001b[0m\n\u001b[1;32m   1358\u001b[0m                 \u001b[0mself\u001b[0m\u001b[0;34m.\u001b[0m\u001b[0mclose\u001b[0m\u001b[0;34m(\u001b[0m\u001b[0;34m)\u001b[0m\u001b[0;34m\u001b[0m\u001b[0;34m\u001b[0m\u001b[0m\n",
            "\u001b[0;32m/usr/lib/python3.6/http/client.py\u001b[0m in \u001b[0;36mbegin\u001b[0;34m(self)\u001b[0m\n\u001b[1;32m    305\u001b[0m         \u001b[0;31m# read until we get a non-100 response\u001b[0m\u001b[0;34m\u001b[0m\u001b[0;34m\u001b[0m\u001b[0;34m\u001b[0m\u001b[0m\n\u001b[1;32m    306\u001b[0m         \u001b[0;32mwhile\u001b[0m \u001b[0;32mTrue\u001b[0m\u001b[0;34m:\u001b[0m\u001b[0;34m\u001b[0m\u001b[0;34m\u001b[0m\u001b[0m\n\u001b[0;32m--> 307\u001b[0;31m             \u001b[0mversion\u001b[0m\u001b[0;34m,\u001b[0m \u001b[0mstatus\u001b[0m\u001b[0;34m,\u001b[0m \u001b[0mreason\u001b[0m \u001b[0;34m=\u001b[0m \u001b[0mself\u001b[0m\u001b[0;34m.\u001b[0m\u001b[0m_read_status\u001b[0m\u001b[0;34m(\u001b[0m\u001b[0;34m)\u001b[0m\u001b[0;34m\u001b[0m\u001b[0;34m\u001b[0m\u001b[0m\n\u001b[0m\u001b[1;32m    308\u001b[0m             \u001b[0;32mif\u001b[0m \u001b[0mstatus\u001b[0m \u001b[0;34m!=\u001b[0m \u001b[0mCONTINUE\u001b[0m\u001b[0;34m:\u001b[0m\u001b[0;34m\u001b[0m\u001b[0;34m\u001b[0m\u001b[0m\n\u001b[1;32m    309\u001b[0m                 \u001b[0;32mbreak\u001b[0m\u001b[0;34m\u001b[0m\u001b[0;34m\u001b[0m\u001b[0m\n",
            "\u001b[0;32m/usr/lib/python3.6/http/client.py\u001b[0m in \u001b[0;36m_read_status\u001b[0;34m(self)\u001b[0m\n\u001b[1;32m    266\u001b[0m \u001b[0;34m\u001b[0m\u001b[0m\n\u001b[1;32m    267\u001b[0m     \u001b[0;32mdef\u001b[0m \u001b[0m_read_status\u001b[0m\u001b[0;34m(\u001b[0m\u001b[0mself\u001b[0m\u001b[0;34m)\u001b[0m\u001b[0;34m:\u001b[0m\u001b[0;34m\u001b[0m\u001b[0;34m\u001b[0m\u001b[0m\n\u001b[0;32m--> 268\u001b[0;31m         \u001b[0mline\u001b[0m \u001b[0;34m=\u001b[0m \u001b[0mstr\u001b[0m\u001b[0;34m(\u001b[0m\u001b[0mself\u001b[0m\u001b[0;34m.\u001b[0m\u001b[0mfp\u001b[0m\u001b[0;34m.\u001b[0m\u001b[0mreadline\u001b[0m\u001b[0;34m(\u001b[0m\u001b[0m_MAXLINE\u001b[0m \u001b[0;34m+\u001b[0m \u001b[0;36m1\u001b[0m\u001b[0;34m)\u001b[0m\u001b[0;34m,\u001b[0m \u001b[0;34m\"iso-8859-1\"\u001b[0m\u001b[0;34m)\u001b[0m\u001b[0;34m\u001b[0m\u001b[0;34m\u001b[0m\u001b[0m\n\u001b[0m\u001b[1;32m    269\u001b[0m         \u001b[0;32mif\u001b[0m \u001b[0mlen\u001b[0m\u001b[0;34m(\u001b[0m\u001b[0mline\u001b[0m\u001b[0;34m)\u001b[0m \u001b[0;34m>\u001b[0m \u001b[0m_MAXLINE\u001b[0m\u001b[0;34m:\u001b[0m\u001b[0;34m\u001b[0m\u001b[0;34m\u001b[0m\u001b[0m\n\u001b[1;32m    270\u001b[0m             \u001b[0;32mraise\u001b[0m \u001b[0mLineTooLong\u001b[0m\u001b[0;34m(\u001b[0m\u001b[0;34m\"status line\"\u001b[0m\u001b[0;34m)\u001b[0m\u001b[0;34m\u001b[0m\u001b[0;34m\u001b[0m\u001b[0m\n",
            "\u001b[0;32m/usr/lib/python3.6/socket.py\u001b[0m in \u001b[0;36mreadinto\u001b[0;34m(self, b)\u001b[0m\n\u001b[1;32m    584\u001b[0m         \u001b[0;32mwhile\u001b[0m \u001b[0;32mTrue\u001b[0m\u001b[0;34m:\u001b[0m\u001b[0;34m\u001b[0m\u001b[0;34m\u001b[0m\u001b[0m\n\u001b[1;32m    585\u001b[0m             \u001b[0;32mtry\u001b[0m\u001b[0;34m:\u001b[0m\u001b[0;34m\u001b[0m\u001b[0;34m\u001b[0m\u001b[0m\n\u001b[0;32m--> 586\u001b[0;31m                 \u001b[0;32mreturn\u001b[0m \u001b[0mself\u001b[0m\u001b[0;34m.\u001b[0m\u001b[0m_sock\u001b[0m\u001b[0;34m.\u001b[0m\u001b[0mrecv_into\u001b[0m\u001b[0;34m(\u001b[0m\u001b[0mb\u001b[0m\u001b[0;34m)\u001b[0m\u001b[0;34m\u001b[0m\u001b[0;34m\u001b[0m\u001b[0m\n\u001b[0m\u001b[1;32m    587\u001b[0m             \u001b[0;32mexcept\u001b[0m \u001b[0mtimeout\u001b[0m\u001b[0;34m:\u001b[0m\u001b[0;34m\u001b[0m\u001b[0;34m\u001b[0m\u001b[0m\n\u001b[1;32m    588\u001b[0m                 \u001b[0mself\u001b[0m\u001b[0;34m.\u001b[0m\u001b[0m_timeout_occurred\u001b[0m \u001b[0;34m=\u001b[0m \u001b[0;32mTrue\u001b[0m\u001b[0;34m\u001b[0m\u001b[0;34m\u001b[0m\u001b[0m\n",
            "\u001b[0;32m/usr/lib/python3.6/ssl.py\u001b[0m in \u001b[0;36mrecv_into\u001b[0;34m(self, buffer, nbytes, flags)\u001b[0m\n\u001b[1;32m   1010\u001b[0m                   \u001b[0;34m\"non-zero flags not allowed in calls to recv_into() on %s\"\u001b[0m \u001b[0;34m%\u001b[0m\u001b[0;34m\u001b[0m\u001b[0;34m\u001b[0m\u001b[0m\n\u001b[1;32m   1011\u001b[0m                   self.__class__)\n\u001b[0;32m-> 1012\u001b[0;31m             \u001b[0;32mreturn\u001b[0m \u001b[0mself\u001b[0m\u001b[0;34m.\u001b[0m\u001b[0mread\u001b[0m\u001b[0;34m(\u001b[0m\u001b[0mnbytes\u001b[0m\u001b[0;34m,\u001b[0m \u001b[0mbuffer\u001b[0m\u001b[0;34m)\u001b[0m\u001b[0;34m\u001b[0m\u001b[0;34m\u001b[0m\u001b[0m\n\u001b[0m\u001b[1;32m   1013\u001b[0m         \u001b[0;32melse\u001b[0m\u001b[0;34m:\u001b[0m\u001b[0;34m\u001b[0m\u001b[0;34m\u001b[0m\u001b[0m\n\u001b[1;32m   1014\u001b[0m             \u001b[0;32mreturn\u001b[0m \u001b[0msocket\u001b[0m\u001b[0;34m.\u001b[0m\u001b[0mrecv_into\u001b[0m\u001b[0;34m(\u001b[0m\u001b[0mself\u001b[0m\u001b[0;34m,\u001b[0m \u001b[0mbuffer\u001b[0m\u001b[0;34m,\u001b[0m \u001b[0mnbytes\u001b[0m\u001b[0;34m,\u001b[0m \u001b[0mflags\u001b[0m\u001b[0;34m)\u001b[0m\u001b[0;34m\u001b[0m\u001b[0;34m\u001b[0m\u001b[0m\n",
            "\u001b[0;32m/usr/lib/python3.6/ssl.py\u001b[0m in \u001b[0;36mread\u001b[0;34m(self, len, buffer)\u001b[0m\n\u001b[1;32m    872\u001b[0m             \u001b[0;32mraise\u001b[0m \u001b[0mValueError\u001b[0m\u001b[0;34m(\u001b[0m\u001b[0;34m\"Read on closed or unwrapped SSL socket.\"\u001b[0m\u001b[0;34m)\u001b[0m\u001b[0;34m\u001b[0m\u001b[0;34m\u001b[0m\u001b[0m\n\u001b[1;32m    873\u001b[0m         \u001b[0;32mtry\u001b[0m\u001b[0;34m:\u001b[0m\u001b[0;34m\u001b[0m\u001b[0;34m\u001b[0m\u001b[0m\n\u001b[0;32m--> 874\u001b[0;31m             \u001b[0;32mreturn\u001b[0m \u001b[0mself\u001b[0m\u001b[0;34m.\u001b[0m\u001b[0m_sslobj\u001b[0m\u001b[0;34m.\u001b[0m\u001b[0mread\u001b[0m\u001b[0;34m(\u001b[0m\u001b[0mlen\u001b[0m\u001b[0;34m,\u001b[0m \u001b[0mbuffer\u001b[0m\u001b[0;34m)\u001b[0m\u001b[0;34m\u001b[0m\u001b[0;34m\u001b[0m\u001b[0m\n\u001b[0m\u001b[1;32m    875\u001b[0m         \u001b[0;32mexcept\u001b[0m \u001b[0mSSLError\u001b[0m \u001b[0;32mas\u001b[0m \u001b[0mx\u001b[0m\u001b[0;34m:\u001b[0m\u001b[0;34m\u001b[0m\u001b[0;34m\u001b[0m\u001b[0m\n\u001b[1;32m    876\u001b[0m             \u001b[0;32mif\u001b[0m \u001b[0mx\u001b[0m\u001b[0;34m.\u001b[0m\u001b[0margs\u001b[0m\u001b[0;34m[\u001b[0m\u001b[0;36m0\u001b[0m\u001b[0;34m]\u001b[0m \u001b[0;34m==\u001b[0m \u001b[0mSSL_ERROR_EOF\u001b[0m \u001b[0;32mand\u001b[0m \u001b[0mself\u001b[0m\u001b[0;34m.\u001b[0m\u001b[0msuppress_ragged_eofs\u001b[0m\u001b[0;34m:\u001b[0m\u001b[0;34m\u001b[0m\u001b[0;34m\u001b[0m\u001b[0m\n",
            "\u001b[0;32m/usr/lib/python3.6/ssl.py\u001b[0m in \u001b[0;36mread\u001b[0;34m(self, len, buffer)\u001b[0m\n\u001b[1;32m    629\u001b[0m         \"\"\"\n\u001b[1;32m    630\u001b[0m         \u001b[0;32mif\u001b[0m \u001b[0mbuffer\u001b[0m \u001b[0;32mis\u001b[0m \u001b[0;32mnot\u001b[0m \u001b[0;32mNone\u001b[0m\u001b[0;34m:\u001b[0m\u001b[0;34m\u001b[0m\u001b[0;34m\u001b[0m\u001b[0m\n\u001b[0;32m--> 631\u001b[0;31m             \u001b[0mv\u001b[0m \u001b[0;34m=\u001b[0m \u001b[0mself\u001b[0m\u001b[0;34m.\u001b[0m\u001b[0m_sslobj\u001b[0m\u001b[0;34m.\u001b[0m\u001b[0mread\u001b[0m\u001b[0;34m(\u001b[0m\u001b[0mlen\u001b[0m\u001b[0;34m,\u001b[0m \u001b[0mbuffer\u001b[0m\u001b[0;34m)\u001b[0m\u001b[0;34m\u001b[0m\u001b[0;34m\u001b[0m\u001b[0m\n\u001b[0m\u001b[1;32m    632\u001b[0m         \u001b[0;32melse\u001b[0m\u001b[0;34m:\u001b[0m\u001b[0;34m\u001b[0m\u001b[0;34m\u001b[0m\u001b[0m\n\u001b[1;32m    633\u001b[0m             \u001b[0mv\u001b[0m \u001b[0;34m=\u001b[0m \u001b[0mself\u001b[0m\u001b[0;34m.\u001b[0m\u001b[0m_sslobj\u001b[0m\u001b[0;34m.\u001b[0m\u001b[0mread\u001b[0m\u001b[0;34m(\u001b[0m\u001b[0mlen\u001b[0m\u001b[0;34m)\u001b[0m\u001b[0;34m\u001b[0m\u001b[0;34m\u001b[0m\u001b[0m\n",
            "\u001b[0;31mKeyboardInterrupt\u001b[0m: "
          ]
        }
      ]
    }
  ]
}